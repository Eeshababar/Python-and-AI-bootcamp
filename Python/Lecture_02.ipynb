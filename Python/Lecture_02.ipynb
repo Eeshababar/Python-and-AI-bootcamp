{
  "nbformat": 4,
  "nbformat_minor": 0,
  "metadata": {
    "colab": {
      "provenance": []
    },
    "kernelspec": {
      "name": "python3",
      "display_name": "Python 3"
    },
    "language_info": {
      "name": "python"
    }
  },
  "cells": [
    {
      "cell_type": "markdown",
      "source": [
        "# 👋 Welcome to Week 1 Day 3 of Python and AI Bootcamp\n",
        "\n",
        "\n",
        "![Pythonclass.png](data:image/png;base64,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)"
      ],
      "metadata": {
        "id": "cnW1uKGyyPPx"
      }
    },
    {
      "cell_type": "markdown",
      "source": [
        "## 👩‍🏫 **Trainer:** Eesha Tur Razia Babar  \n",
        "## 🤖 **Remote AI Research Assistant** @ Purdue University\n",
        "\n"
      ],
      "metadata": {
        "id": "FoZXQRDl6yfj"
      }
    },
    {
      "cell_type": "markdown",
      "source": [
        "# 📌 Agenda\n",
        "\n",
        "1. **Dictionaries**\n",
        "   - Key-value data structure\n",
        "   - Access, update, delete entries\n",
        "   - Looping through dictionaries\n",
        "\n",
        "2. **Loops**\n",
        "   - `for` loops\n",
        "   \n",
        "   - Loop control statements: `break`, `continue`, `pass`\n",
        "\n",
        "3. **Functions**\n",
        "   - Defining functions\n",
        "   - Parameters and return values\n",
        "   - Function best practices\n",
        "\n",
        "4. **Lambda Functions**\n",
        "   - Anonymous functions\n",
        "   - Usage with `map()`, `filter()`\n",
        "\n",
        "5. **List Comprehension**\n",
        "   - Basic syntax\n",
        "   - Conditional list comprehensions\n",
        "   - Nested list comprehensions\n",
        "\n",
        "6. **Exception Handling**\n",
        "   - `try...except` blocks\n",
        "   - Handling multiple exceptions\n",
        "   - `finally` and `raise` usage\n"
      ],
      "metadata": {
        "id": "1JYVgixHtaBw"
      }
    },
    {
      "cell_type": "markdown",
      "source": [
        "## 📚 Python Dictionaries\n",
        "\n",
        "### **Definition**\n",
        "A **dictionary** in Python is a built-in data structure that stores data in **key-value pairs**.  \n",
        "- Each **key** acts as a unique identifier for its **value**.  \n",
        "- Keys must be immutable types (e.g., strings, numbers, tuples containing only immutable items).\n",
        "\"Immutable\" means something that cannot be changed or modified after it is created.\n",
        "\n",
        "In programming, an immutable object is one whose value cannot be altered once assigned. If you try to change it, a new object is created instead of modifying the existing one.\n",
        "- Values can be of any data type.  \n",
        "\n",
        "**Example:**\n",
        "```python\n",
        "student = {\n",
        "    \"name\": \"Ali\",\n",
        "    \"age\": 21,\n",
        "    \"grade\": \"A\"\n",
        "}\n"
      ],
      "metadata": {
        "id": "HQyffvOZt65J"
      }
    },
    {
      "cell_type": "markdown",
      "source": [
        "## 🔑 Properties of Python Dictionaries\n",
        "\n",
        "| Property                               | Description |\n",
        "|----------------------------------------|-------------|\n",
        "| **Preserve Insertion Order** (Python ≥ 3.7) | Maintains the order in which items are inserted. |\n",
        "| **Mutable**                            | Can add, update, or remove items after creation. |\n",
        "| **Indexed by Keys**                    | Values are accessed using keys, not numeric indices. |\n",
        "| **Keys Must Be Unique**                | Duplicate keys overwrite existing values. |\n",
        "| **Keys Must Be Immutable**             | Keys can be strings, numbers, or tuples containing only immutable elements. |\n",
        "| **Values Can Be Any Data Type**        | Values can be strings, numbers, lists, dictionaries, etc. |\n"
      ],
      "metadata": {
        "id": "gQNlWtgJt-DY"
      }
    },
    {
      "cell_type": "markdown",
      "source": [
        "1️⃣ Creating and Accessing a Dictionary"
      ],
      "metadata": {
        "id": "_NDIzPL_uxCH"
      }
    },
    {
      "cell_type": "code",
      "source": [
        "# Creating a dictionary with key-value pairs\n",
        "student = {\n",
        "    \"name\": \"Ali\",    # key: \"name\", value: \"Ali\"\n",
        "    \"age\": 21,        # key: \"age\", value: 21\n",
        "    \"grade\": \"A\"      # key: \"grade\", value: \"A\"\n",
        "}\n",
        "\n",
        "# Accessing values using keys\n",
        "print(student[\"name\"])   # Output: Ali\n",
        "print(student[\"grade\"])  # Output: A\n"
      ],
      "metadata": {
        "colab": {
          "base_uri": "https://localhost:8080/"
        },
        "id": "hpNPTgoWuz8d",
        "outputId": "a7ff267d-dc12-4c1c-d2fe-624ea983cfec"
      },
      "execution_count": 30,
      "outputs": [
        {
          "output_type": "stream",
          "name": "stdout",
          "text": [
            "Ali\n",
            "A\n"
          ]
        }
      ]
    },
    {
      "cell_type": "markdown",
      "source": [
        "2️⃣ Adding and Modifying Entries"
      ],
      "metadata": {
        "id": "qnff1Ygzu1Np"
      }
    },
    {
      "cell_type": "code",
      "source": [
        "student = {\n",
        "    \"name\": \"Ali\",\n",
        "    \"age\": 21,\n",
        "    \"grade\": \"A\"\n",
        "}\n",
        "\n",
        "# Add a new key-value pair\n",
        "student[\"city\"] = \"Lahore\"\n",
        "\n",
        "# Modify an existing value\n",
        "student[\"grade\"] = \"B+\"\n",
        "\n",
        "print(student)\n"
      ],
      "metadata": {
        "colab": {
          "base_uri": "https://localhost:8080/"
        },
        "id": "D-qi9Dk4u-8v",
        "outputId": "5be0df25-e5c5-429d-c355-00b5cf61cd53"
      },
      "execution_count": 32,
      "outputs": [
        {
          "output_type": "stream",
          "name": "stdout",
          "text": [
            "{'name': 'Ali', 'age': 21, 'grade': 'B+', 'city': 'Lahore'}\n"
          ]
        }
      ]
    },
    {
      "cell_type": "markdown",
      "source": [
        "3️⃣ Removing Entries"
      ],
      "metadata": {
        "id": "FcGUD4cBvBwU"
      }
    },
    {
      "cell_type": "code",
      "source": [
        "student = {\n",
        "    \"name\": \"Ali\",\n",
        "    \"age\": 21,\n",
        "    \"grade\": \"A\",\n",
        "    \"city\": \"Lahore\"\n",
        "}\n",
        "\n",
        "#Using del keyword\n",
        "#Deletes a key-value pair without returning the value.\n",
        "#If the key does not exist → raises a KeyError.\n",
        "\n",
        "del student[\"age\"]\n",
        "\n",
        "# Using pop() method\n",
        "#Removes a key-value pair and returns the value.\n",
        "#Can take a default value to return if the key doesn’t exist (avoids KeyError).\n",
        "\n",
        "removed_city = student.pop(\"city\", \"Not Found\")\n",
        "print(\"Removed city:\", removed_city)\n",
        "\n",
        "#student.pop(\"city\", \"Not Found\")\n",
        "#Looks for \"city\" in the dictionary.\n",
        "#If found → removes it and returns its value.\n",
        "#If not found → returns \"Not Found\" (the default value provided).\n",
        "#removed_city\n",
        "#Stores the returned value (either the actual city name or \"Not Found\").\n",
        "\n",
        "\n",
        "removed_city = student.pop(\"city\", \"Not Found\")\n",
        "print(\"Removed city:\", removed_city)\n",
        "\n",
        "print(student)\n"
      ],
      "metadata": {
        "colab": {
          "base_uri": "https://localhost:8080/"
        },
        "id": "hft7W-oRvLPD",
        "outputId": "a1446a04-1f2e-40ff-9564-eb9f8652f13f"
      },
      "execution_count": 34,
      "outputs": [
        {
          "output_type": "stream",
          "name": "stdout",
          "text": [
            "Removed city: Lahore\n",
            "Removed city: Not Found\n",
            "{'name': 'Ali', 'grade': 'A'}\n"
          ]
        }
      ]
    },
    {
      "cell_type": "markdown",
      "source": [
        "4️⃣ Dictionary of Lists"
      ],
      "metadata": {
        "id": "VdJMtDguvMP_"
      }
    },
    {
      "cell_type": "code",
      "source": [
        "# A dictionary where each value is a list\n",
        "grades = {\n",
        "    \"Ali\": [85, 90, 88],\n",
        "    \"Sara\": [78, 82, 91],\n",
        "    \"John\": [92, 88, 95]\n",
        "}\n",
        "\n",
        "\n"
      ],
      "metadata": {
        "id": "gtrMjzZvvW7W"
      },
      "execution_count": 35,
      "outputs": []
    },
    {
      "cell_type": "code",
      "source": [
        "# Mutable key example\n",
        "student = {}\n",
        "\n",
        "# Trying to use a list as a key\n",
        "student[[\"first\", \"last\"]] = \"Ali Babar\"\n",
        "\n",
        "#✅ Rule of Thumb:\n",
        "#Keys must be immutable: strings, numbers, or tuples that contain only immutable elements.\n",
        "\n",
        "\n"
      ],
      "metadata": {
        "colab": {
          "base_uri": "https://localhost:8080/",
          "height": 220
        },
        "id": "NovqP__m914L",
        "outputId": "4f58fca9-d79a-44d1-a692-2ea691773347"
      },
      "execution_count": 36,
      "outputs": [
        {
          "output_type": "error",
          "ename": "TypeError",
          "evalue": "unhashable type: 'list'",
          "traceback": [
            "\u001b[0;31m---------------------------------------------------------------------------\u001b[0m",
            "\u001b[0;31mTypeError\u001b[0m                                 Traceback (most recent call last)",
            "\u001b[0;32m/tmp/ipython-input-2707199388.py\u001b[0m in \u001b[0;36m<cell line: 0>\u001b[0;34m()\u001b[0m\n\u001b[1;32m      3\u001b[0m \u001b[0;34m\u001b[0m\u001b[0m\n\u001b[1;32m      4\u001b[0m \u001b[0;31m# Trying to use a list as a key\u001b[0m\u001b[0;34m\u001b[0m\u001b[0;34m\u001b[0m\u001b[0m\n\u001b[0;32m----> 5\u001b[0;31m \u001b[0mstudent\u001b[0m\u001b[0;34m[\u001b[0m\u001b[0;34m[\u001b[0m\u001b[0;34m\"first\"\u001b[0m\u001b[0;34m,\u001b[0m \u001b[0;34m\"last\"\u001b[0m\u001b[0;34m]\u001b[0m\u001b[0;34m]\u001b[0m \u001b[0;34m=\u001b[0m \u001b[0;34m\"Ali Babar\"\u001b[0m\u001b[0;34m\u001b[0m\u001b[0;34m\u001b[0m\u001b[0m\n\u001b[0m\u001b[1;32m      6\u001b[0m \u001b[0;34m\u001b[0m\u001b[0m\n\u001b[1;32m      7\u001b[0m \u001b[0;31m#✅ Rule of Thumb:\u001b[0m\u001b[0;34m\u001b[0m\u001b[0;34m\u001b[0m\u001b[0m\n",
            "\u001b[0;31mTypeError\u001b[0m: unhashable type: 'list'"
          ]
        }
      ]
    },
    {
      "cell_type": "markdown",
      "source": [
        "🔍 Why It Happens\n",
        "Python dictionaries and sets use hashing to store and find elements quickly.\n",
        "\n",
        "Only immutable (unchangeable) objects can be hashed.\n",
        "\n",
        "Lists can change (items can be added, removed, or modified), so Python cannot use them as keys."
      ],
      "metadata": {
        "id": "YEIeUJDJ-N3F"
      }
    },
    {
      "cell_type": "markdown",
      "source": [
        "## 🔄 `for` Loop in Python\n",
        "\n",
        "### **Definition**\n",
        "A **`for` loop** in Python is used to **iterate** over a sequence (such as a list, tuple, dictionary, string, or range of numbers) and execute a block of code **once for each item** in the sequence.\n",
        "\n",
        "Unlike some other programming languages where `for` loops use a counter by default, Python’s `for` loop works directly with **iterable objects**.\n",
        "\n",
        "---\n",
        "\n",
        "### **Syntax**\n",
        "```python\n",
        "for variable in sequence:\n",
        "    # Code block to execute\n"
      ],
      "metadata": {
        "id": "2w9EQSBPvt6U"
      }
    },
    {
      "cell_type": "markdown",
      "source": [
        "1️⃣ Loop Through a List"
      ],
      "metadata": {
        "id": "4TV9tUNwwhQK"
      }
    },
    {
      "cell_type": "code",
      "source": [
        "fruits = [\"apple\", \"banana\", \"cherry\"]\n",
        "for f in fruits:\n",
        "    print(f)"
      ],
      "metadata": {
        "colab": {
          "base_uri": "https://localhost:8080/"
        },
        "id": "Fs-XA09qwh6N",
        "outputId": "5b040708-e52d-44eb-b1e0-39636058efef"
      },
      "execution_count": 38,
      "outputs": [
        {
          "output_type": "stream",
          "name": "stdout",
          "text": [
            "apple\n",
            "banana\n",
            "cherry\n"
          ]
        }
      ]
    },
    {
      "cell_type": "code",
      "source": [
        "fruits = [\"apple\", \"banana\", \"cherry\"]\n",
        "for vegetable in fruits:\n",
        "    print(vegetable)"
      ],
      "metadata": {
        "colab": {
          "base_uri": "https://localhost:8080/"
        },
        "id": "W5twKTo2-V60",
        "outputId": "97a44539-b392-4d5c-fdcb-09ac187fc994"
      },
      "execution_count": 22,
      "outputs": [
        {
          "output_type": "stream",
          "name": "stdout",
          "text": [
            "apple\n",
            "banana\n",
            "cherry\n"
          ]
        }
      ]
    },
    {
      "cell_type": "markdown",
      "source": [
        "# 2️⃣ Using range()"
      ],
      "metadata": {
        "id": "NHo-tH11wkfu"
      }
    },
    {
      "cell_type": "code",
      "source": [
        "for i in range(1, 6):\n",
        "    print(i)"
      ],
      "metadata": {
        "colab": {
          "base_uri": "https://localhost:8080/"
        },
        "id": "U7U8tumQwnO-",
        "outputId": "c71718d7-72c8-499b-91f0-ebfd77029782"
      },
      "execution_count": 39,
      "outputs": [
        {
          "output_type": "stream",
          "name": "stdout",
          "text": [
            "1\n",
            "2\n",
            "3\n",
            "4\n",
            "5\n"
          ]
        }
      ]
    },
    {
      "cell_type": "markdown",
      "source": [
        "3️⃣ Loop Through a String"
      ],
      "metadata": {
        "id": "qhCt7KyJwp-C"
      }
    },
    {
      "cell_type": "code",
      "source": [
        "for c in \"Python\":\n",
        "    print(c)"
      ],
      "metadata": {
        "colab": {
          "base_uri": "https://localhost:8080/"
        },
        "id": "ZjC3p78lwtLC",
        "outputId": "e3284adb-d45a-43a2-b698-fcb627fb6c1d"
      },
      "execution_count": 41,
      "outputs": [
        {
          "output_type": "stream",
          "name": "stdout",
          "text": [
            "P\n",
            "y\n",
            "t\n",
            "h\n",
            "o\n",
            "n\n"
          ]
        }
      ]
    },
    {
      "cell_type": "code",
      "source": [
        "for m in \"Python\":\n",
        "    print(m)"
      ],
      "metadata": {
        "colab": {
          "base_uri": "https://localhost:8080/"
        },
        "id": "ImgHj76P-kV1",
        "outputId": "08543cb1-fb55-4b5d-a638-3e629d61d5ad"
      },
      "execution_count": 23,
      "outputs": [
        {
          "output_type": "stream",
          "name": "stdout",
          "text": [
            "P\n",
            "y\n",
            "t\n",
            "h\n",
            "o\n",
            "n\n"
          ]
        }
      ]
    },
    {
      "cell_type": "markdown",
      "source": [
        "4️⃣ Loop with Condition (Even Numbers)"
      ],
      "metadata": {
        "id": "UP1lQEPfwys4"
      }
    },
    {
      "cell_type": "code",
      "source": [
        "a = 2\n",
        "for i in range(1, 21):\n",
        "  if i % 2 == 0:\n",
        "        print(i)"
      ],
      "metadata": {
        "colab": {
          "base_uri": "https://localhost:8080/"
        },
        "id": "P-85BRh-wvaO",
        "outputId": "e7f8ca73-07b4-4050-c8ac-df7f8443a880"
      },
      "execution_count": null,
      "outputs": [
        {
          "output_type": "stream",
          "name": "stdout",
          "text": [
            "2\n",
            "4\n",
            "6\n",
            "8\n",
            "10\n",
            "12\n",
            "14\n",
            "16\n",
            "18\n",
            "20\n"
          ]
        }
      ]
    },
    {
      "cell_type": "markdown",
      "source": [
        "5️⃣ Loop Through a Dictionary"
      ],
      "metadata": {
        "id": "ugsyypbkw29G"
      }
    },
    {
      "cell_type": "code",
      "source": [
        "student = {\"name\": \"Ali\", \"age\": 21, \"grade\": \"A\"}\n",
        "for key, value in student.items():\n",
        "#.items() is a dictionary method in Python that returns all the key-value pairs in the dictionary as tuple pairs.\n",
        "    print(f\"{key} → {value}\")\n"
      ],
      "metadata": {
        "colab": {
          "base_uri": "https://localhost:8080/"
        },
        "id": "TExZnsxew5I3",
        "outputId": "3b4780dc-07bb-401f-b46d-0306b91f5acf"
      },
      "execution_count": 42,
      "outputs": [
        {
          "output_type": "stream",
          "name": "stdout",
          "text": [
            "name → Ali\n",
            "age → 21\n",
            "grade → A\n"
          ]
        }
      ]
    },
    {
      "cell_type": "markdown",
      "source": [
        "# 6️⃣ Nested for Loops"
      ],
      "metadata": {
        "id": "gLVJoUEXw-hM"
      }
    },
    {
      "cell_type": "code",
      "source": [
        "for i in range(1, 4):\n",
        "    for j in range(1, 4):\n",
        "        print(f\"i={i}, j={j}\")"
      ],
      "metadata": {
        "colab": {
          "base_uri": "https://localhost:8080/"
        },
        "id": "XBs1e76_xBeu",
        "outputId": "731b8f9a-b8a3-452e-edf0-403c2007c77d"
      },
      "execution_count": 43,
      "outputs": [
        {
          "output_type": "stream",
          "name": "stdout",
          "text": [
            "i=1, j=1\n",
            "i=1, j=2\n",
            "i=1, j=3\n",
            "i=2, j=1\n",
            "i=2, j=2\n",
            "i=2, j=3\n",
            "i=3, j=1\n",
            "i=3, j=2\n",
            "i=3, j=3\n"
          ]
        }
      ]
    },
    {
      "cell_type": "markdown",
      "source": [
        "## 🔄 For Loop Example with `break` and `continue`"
      ],
      "metadata": {
        "id": "AUdRreCB2KjJ"
      }
    },
    {
      "cell_type": "markdown",
      "source": [
        "range(6) → generates numbers from 0 to 5.\n",
        "\n",
        "if i == 2: continue → skips printing 2 and moves to the next iteration.\n",
        "\n",
        "if i == 5: break → stops the loop entirely when i reaches 5.\n",
        "\n",
        "print(i) → prints the value if neither condition is triggered."
      ],
      "metadata": {
        "id": "gBGAeLkaABq_"
      }
    },
    {
      "cell_type": "code",
      "source": [
        "for i in range(6):\n",
        "    if i == 2:\n",
        "        continue  # Skip when i is 2\n",
        "    if i == 5:\n",
        "        break     # Stop the loop when i is 5\n",
        "    print(i)\n"
      ],
      "metadata": {
        "colab": {
          "base_uri": "https://localhost:8080/"
        },
        "id": "tY0HG31M2LYA",
        "outputId": "a9d11afc-45a6-4dc4-dc6b-28438bab2016"
      },
      "execution_count": 26,
      "outputs": [
        {
          "output_type": "stream",
          "name": "stdout",
          "text": [
            "0\n",
            "1\n",
            "3\n",
            "4\n"
          ]
        }
      ]
    },
    {
      "cell_type": "markdown",
      "source": [
        "## 📊 Nested For Loops — Multiplication Table"
      ],
      "metadata": {
        "id": "Uth6bRiW2dP8"
      }
    },
    {
      "cell_type": "code",
      "source": [
        "# Generate a 5x5 multiplication table\n",
        "for i in range(1, 6):           # Outer loop for rows\n",
        "    for j in range(1, 6):       # Inner loop for columns\n",
        "        print(i * j, end=\"\\t\")  # \\t adds tab space for alignment\n",
        "    print()  # Move to the next line after each row"
      ],
      "metadata": {
        "colab": {
          "base_uri": "https://localhost:8080/"
        },
        "id": "btRT265c2c7E",
        "outputId": "5c6ea4c7-af44-4145-ccba-6fbbbb35176c"
      },
      "execution_count": 44,
      "outputs": [
        {
          "output_type": "stream",
          "name": "stdout",
          "text": [
            "1\t2\t3\t4\t5\t\n",
            "2\t4\t6\t8\t10\t\n",
            "3\t6\t9\t12\t15\t\n",
            "4\t8\t12\t16\t20\t\n",
            "5\t10\t15\t20\t25\t\n"
          ]
        }
      ]
    },
    {
      "cell_type": "markdown",
      "source": [
        "## **`range()` Function in Python**\n",
        "\n",
        "The `range()` function generates a sequence of numbers, often used in `for` loops.\n",
        "\n",
        "**Syntax:**\n",
        "```python\n",
        "range(start, stop, step)\n",
        "\n",
        "Parameters:\n",
        "\n",
        "start (optional) – The starting value of the sequence (default: 0).\n",
        "\n",
        "stop (required) – The number one past the last value in the sequence.\n",
        "\n",
        "step (optional) – The increment between each number (default: 1). Can be negative."
      ],
      "metadata": {
        "id": "z0O5reuhcCkj"
      }
    },
    {
      "cell_type": "markdown",
      "source": [
        "1️⃣ Counting Up\n",
        "\n"
      ],
      "metadata": {
        "id": "6igr-Qm9cK7D"
      }
    },
    {
      "cell_type": "code",
      "execution_count": null,
      "metadata": {
        "colab": {
          "base_uri": "https://localhost:8080/"
        },
        "id": "rx-cODJ9bGUT",
        "outputId": "9e1c0f47-2ea9-4033-c177-9104ba1484bb"
      },
      "outputs": [
        {
          "output_type": "stream",
          "name": "stdout",
          "text": [
            "1\n",
            "2\n",
            "3\n",
            "4\n",
            "5\n"
          ]
        }
      ],
      "source": [
        "# Print numbers from 1 to 5\n",
        "for i in range(1, 6):\n",
        "    print(i)\n"
      ]
    },
    {
      "cell_type": "markdown",
      "source": [
        "2️⃣ Counting Down"
      ],
      "metadata": {
        "id": "oz7EcB2HcSss"
      }
    },
    {
      "cell_type": "code",
      "source": [
        "# Print numbers from 10 down to 1\n",
        "for i in range(10, 0, -1):\n",
        "    print(i)\n"
      ],
      "metadata": {
        "colab": {
          "base_uri": "https://localhost:8080/"
        },
        "id": "9sNHMSZbbYr7",
        "outputId": "d3986bf9-b462-417c-eb9e-e822c231641f"
      },
      "execution_count": null,
      "outputs": [
        {
          "output_type": "stream",
          "name": "stdout",
          "text": [
            "10\n",
            "9\n",
            "8\n",
            "7\n",
            "6\n",
            "5\n",
            "4\n",
            "3\n",
            "2\n",
            "1\n"
          ]
        }
      ]
    },
    {
      "cell_type": "markdown",
      "source": [
        "3️⃣ Multiplication Table"
      ],
      "metadata": {
        "id": "wRrbtxsicWrq"
      }
    },
    {
      "cell_type": "code",
      "source": [
        "# Print the 5 times table\n",
        "for i in range(1, 11):\n",
        "    print(f\"5 x {i} = {5*i}\")\n"
      ],
      "metadata": {
        "colab": {
          "base_uri": "https://localhost:8080/"
        },
        "id": "ENxc_x27bjpK",
        "outputId": "5f0026ab-dc8c-4eb8-e237-876956fd6d0c"
      },
      "execution_count": null,
      "outputs": [
        {
          "output_type": "stream",
          "name": "stdout",
          "text": [
            "5 x 1 = 5\n",
            "5 x 2 = 10\n",
            "5 x 3 = 15\n",
            "5 x 4 = 20\n",
            "5 x 5 = 25\n",
            "5 x 6 = 30\n",
            "5 x 7 = 35\n",
            "5 x 8 = 40\n",
            "5 x 9 = 45\n",
            "5 x 10 = 50\n"
          ]
        }
      ]
    },
    {
      "cell_type": "markdown",
      "source": [
        "# 🐍 Python Functions – Definition & Examples\n",
        "\n",
        "## 📌 What is a Function?\n",
        "A **function** in Python is a block of reusable code that performs a specific task.  \n",
        "It helps organize code, avoid repetition, and make programs more readable.\n",
        "\n",
        "---\n",
        "\n",
        "## **Function Syntax**\n",
        "```python\n",
        "def function_name(parameters):\n",
        "    \"\"\"Optional docstring explaining the function.\"\"\"\n",
        "    # Code block\n",
        "    return value\n",
        "def → Keyword to define a function\n",
        "\n",
        "function_name → Name you choose for your function\n",
        "\n",
        "parameters → Inputs to the function (optional)\n",
        "\n",
        "return → Value the function sends back (optional)"
      ],
      "metadata": {
        "id": "ThLZ8xJXddWB"
      }
    },
    {
      "cell_type": "markdown",
      "source": [
        "1️⃣ Function Without Parameters"
      ],
      "metadata": {
        "id": "_t-Y1LrJdiwU"
      }
    },
    {
      "cell_type": "code",
      "source": [
        "def greet():\n",
        "    print(\"Hello\")\n",
        "\n",
        "greet()\n"
      ],
      "metadata": {
        "colab": {
          "base_uri": "https://localhost:8080/"
        },
        "id": "kDKp4Ce5c64I",
        "outputId": "db00c300-c83d-4f74-dd68-9b962f608439"
      },
      "execution_count": 46,
      "outputs": [
        {
          "output_type": "stream",
          "name": "stdout",
          "text": [
            "Hello\n"
          ]
        }
      ]
    },
    {
      "cell_type": "code",
      "source": [
        "def greet_user(name):\n",
        "    print(f\"Hello, {name}!\")\n",
        "\n",
        "greet_user(\"eesha\")\n"
      ],
      "metadata": {
        "colab": {
          "base_uri": "https://localhost:8080/"
        },
        "id": "iAcMIwUpdldj",
        "outputId": "f6acc964-9c7b-45dc-8de8-4fa847183f4c"
      },
      "execution_count": 47,
      "outputs": [
        {
          "output_type": "stream",
          "name": "stdout",
          "text": [
            "Hello, eesha!\n"
          ]
        }
      ]
    },
    {
      "cell_type": "code",
      "source": [
        "def add_numbers(a, b):\n",
        "    return a + b\n",
        "\n",
        "result = add_numbers(5,1)\n",
        "print(result)\n"
      ],
      "metadata": {
        "colab": {
          "base_uri": "https://localhost:8080/"
        },
        "id": "oM7UwSKrdw_z",
        "outputId": "e412d93d-48cf-4e96-e121-225b34696059"
      },
      "execution_count": 49,
      "outputs": [
        {
          "output_type": "stream",
          "name": "stdout",
          "text": [
            "6\n"
          ]
        }
      ]
    },
    {
      "cell_type": "code",
      "source": [
        "def greet_user(name=\"Guest\"):\n",
        "    print(f\"Hello, {name}!\")\n",
        "\n",
        "greet_user()\n",
        "greet_user(\"Bob\")\n"
      ],
      "metadata": {
        "colab": {
          "base_uri": "https://localhost:8080/"
        },
        "id": "2z_lZNPQd1Ty",
        "outputId": "72f868b5-461b-4fbe-ab7a-518ee90dcdc5"
      },
      "execution_count": 50,
      "outputs": [
        {
          "output_type": "stream",
          "name": "stdout",
          "text": [
            "Hello, Guest!\n",
            "Hello, Bob!\n"
          ]
        }
      ]
    },
    {
      "cell_type": "code",
      "source": [
        "def calculate(a, b):\n",
        "    sum_val = a + b\n",
        "    diff_val = a - b\n",
        "    return sum_val, diff_val\n",
        "\n",
        "s, d = calculate(10, 4)\n",
        "print(\"Sum:\", s)\n",
        "print(\"Difference:\", d)\n"
      ],
      "metadata": {
        "colab": {
          "base_uri": "https://localhost:8080/"
        },
        "id": "BJTsBr9jeFBz",
        "outputId": "703a9188-0d91-45ef-aeaf-387ce38b06f5"
      },
      "execution_count": null,
      "outputs": [
        {
          "output_type": "stream",
          "name": "stdout",
          "text": [
            "Sum: 14\n",
            "Difference: 6\n"
          ]
        }
      ]
    },
    {
      "cell_type": "markdown",
      "source": [
        "✅ Tips:\n",
        "\n",
        "Use descriptive function names.\n",
        "\n",
        "Keep functions small and focused on a single task.\n",
        "\n",
        "Add docstrings to explain what the function does."
      ],
      "metadata": {
        "id": "uffas8XbeP2r"
      }
    },
    {
      "cell_type": "markdown",
      "source": [
        "# 🐍 Python Built-in Functions\n",
        "\n",
        "Python comes with **built-in functions** that you can use without importing any module.  \n",
        "These are always available in Python.\n",
        "\n",
        "---\n",
        "\n",
        "## 📌 Commonly Used Built-in Functions\n",
        "\n",
        "| Function | Description | Example |\n",
        "|----------|-------------|---------|\n",
        "| `print()` | Displays output to the screen | `print(\"Hello\")` → `Hello` |\n",
        "| `len()` | Returns the length of an object | `len(\"Python\")` → `6` |\n",
        "| `type()` | Returns the type of an object | `type(5)` → `<class 'int'>` |\n",
        "| `int()` | Converts to an integer | `int(3.9)` → `3` |\n",
        "| `float()` | Converts to a float | `float(3)` → `3.0` |\n",
        "| `str()` | Converts to a string | `str(123)` → `\"123\"` |\n",
        "| `abs()` | Returns absolute value | `abs(-7)` → `7` |\n",
        "| `sum()` | Returns sum of an iterable | `sum([1,2,3])` → `6` |\n",
        "| `max()` | Returns the largest value | `max(2,5,1)` → `5` |\n",
        "| `min()` | Returns the smallest value | `min(2,5,1)` → `1` |\n",
        "| `round()` | Rounds a number | `round(3.1416, 2)` → `3.14` |\n",
        "| `sorted()` | Returns a sorted list | `sorted([3,1,2])` → `[1,2,3]` |\n",
        "| `range()` | Generates a sequence of numbers | `list(range(3))` → `[0,1,2]` |\n",
        "| `input()` | Reads user input as a string | `name = input(\"Enter name: \")` |\n",
        "| `help()` | Displays documentation | `help(len)` |\n",
        "| `dir()` | Lists attributes of an object | `dir(str)` |\n",
        "\n",
        "---\n",
        "\n",
        "## 🔹 Example Code\n",
        "```python\n",
        "numbers = [4, 7, 1, 9, 3]\n",
        "\n",
        "print(\"Length:\", len(numbers))\n",
        "print(\"Max:\", max(numbers))\n",
        "print(\"Min:\", min(numbers))\n",
        "print(\"Sum:\", sum(numbers))\n",
        "print(\"Sorted:\", sorted(numbers))\n"
      ],
      "metadata": {
        "id": "g3gibllUe2dt"
      }
    },
    {
      "cell_type": "markdown",
      "source": [
        "📚 More Built-in Functions\n",
        "You can see the full list in Python's documentation:\n",
        "Python Built-in Functions"
      ],
      "metadata": {
        "id": "2EwgaRJte_N0"
      }
    },
    {
      "cell_type": "markdown",
      "source": [
        "# ⚡ Python Lambda Functions\n",
        "\n",
        "## 📌 What is a Lambda Function?\n",
        "A **lambda function** is a small, anonymous (unnamed) function in Python.  \n",
        "It can have any number of arguments but only **one expression**.  \n",
        "\n",
        "---\n",
        "\n",
        "## **Syntax**\n",
        "```python\n",
        "lambda arguments: expression\n"
      ],
      "metadata": {
        "id": "4Cp7ZkDzeXKF"
      }
    },
    {
      "cell_type": "markdown",
      "source": [
        "## 🔹 Why Do We Use Lambda Functions in Python?\n",
        "\n",
        "### 1️⃣ Concise Syntax\n",
        "- Lambda functions can be written in **one line**.\n",
        "- No need to define a separate function with `def` when it’s only used once.\n",
        "\n",
        "```python\n",
        "square = lambda x: x**2\n",
        "print(square(5))  # 25\n"
      ],
      "metadata": {
        "id": "L2dxlj380PUJ"
      }
    },
    {
      "cell_type": "code",
      "source": [
        "square = lambda x: x**2\n",
        "print(square(5))\n"
      ],
      "metadata": {
        "colab": {
          "base_uri": "https://localhost:8080/"
        },
        "id": "AeUEeEYceJFm",
        "outputId": "65ad2c89-504e-4df3-ebf1-ab8ea80dcf7c"
      },
      "execution_count": null,
      "outputs": [
        {
          "output_type": "stream",
          "name": "stdout",
          "text": [
            "25\n"
          ]
        }
      ]
    },
    {
      "cell_type": "code",
      "source": [
        "add = lambda a, b: a + b\n",
        "print(add(3, 7))\n"
      ],
      "metadata": {
        "colab": {
          "base_uri": "https://localhost:8080/"
        },
        "id": "UQl1y0p5eaeQ",
        "outputId": "a24232cc-86fb-446a-fbf1-341c40a53382"
      },
      "execution_count": null,
      "outputs": [
        {
          "output_type": "stream",
          "name": "stdout",
          "text": [
            "10\n"
          ]
        }
      ]
    },
    {
      "cell_type": "code",
      "source": [
        "nums = [1, 2, 3, 4]\n",
        "squares = list(map(lambda x: x**2, nums))\n",
        "print(squares)\n"
      ],
      "metadata": {
        "colab": {
          "base_uri": "https://localhost:8080/"
        },
        "id": "_sHsnEJAec62",
        "outputId": "aee7cd07-376f-4540-8bf0-5c822755cd07"
      },
      "execution_count": null,
      "outputs": [
        {
          "output_type": "stream",
          "name": "stdout",
          "text": [
            "[1, 4, 9, 16]\n"
          ]
        }
      ]
    },
    {
      "cell_type": "code",
      "source": [
        "nums = [10, 15, 20, 25, 30]\n",
        "even_nums = list(filter(lambda x: x % 2 == 0, nums))\n",
        "print(even_nums)\n"
      ],
      "metadata": {
        "colab": {
          "base_uri": "https://localhost:8080/"
        },
        "id": "eenpVeYbefUZ",
        "outputId": "ac254f3e-31c8-4bc0-eb09-7784c6126254"
      },
      "execution_count": null,
      "outputs": [
        {
          "output_type": "stream",
          "name": "stdout",
          "text": [
            "[10, 20, 30]\n"
          ]
        }
      ]
    },
    {
      "cell_type": "markdown",
      "source": [
        "## 📝 Introduction to List Comprehensions\n",
        "\n",
        "### **Definition**\n",
        "List comprehensions provide a **concise and readable** way to create lists in Python.  \n",
        "They allow you to **generate a new list** by applying an expression to each item in an existing iterable (like a list, tuple, string, or range), optionally including a condition.\n",
        "\n",
        "---\n",
        "\n",
        "### **Syntax**\n",
        "```python\n",
        "[expression for item in iterable if condition]\n",
        "\n",
        "expression → The value or transformation to include in the new list.\n",
        "\n",
        "item → Variable that takes each value from the iterable.\n",
        "\n",
        "iterable → A sequence (like a list, tuple, string, or range) to iterate over.\n",
        "\n",
        "condition (optional) → Filters which items are processed."
      ],
      "metadata": {
        "id": "enzLk5-_z40O"
      }
    },
    {
      "cell_type": "markdown",
      "source": [
        "## 1️⃣ Basic Transformation"
      ],
      "metadata": {
        "id": "IIynuepA0yEc"
      }
    },
    {
      "cell_type": "code",
      "source": [
        "numbers = [1, 2, 3, 4, 5]\n",
        "squares = [n**2 for n in numbers]\n",
        "print(squares)  # [1, 4, 9, 16, 25]\n"
      ],
      "metadata": {
        "colab": {
          "base_uri": "https://localhost:8080/"
        },
        "id": "AMcI_Tvk0hOg",
        "outputId": "598633aa-dfa2-40d3-e183-ca3dbf15da0d"
      },
      "execution_count": 51,
      "outputs": [
        {
          "output_type": "stream",
          "name": "stdout",
          "text": [
            "[1, 4, 9, 16, 25]\n"
          ]
        }
      ]
    },
    {
      "cell_type": "markdown",
      "source": [
        "2️⃣ With Condition (Filtering)\n",
        "\n"
      ],
      "metadata": {
        "id": "jKogpzp602LR"
      }
    },
    {
      "cell_type": "code",
      "source": [
        "numbers = [1, 2, 3, 4, 5, 6]\n",
        "even_numbers = [n for n in numbers if n % 2 == 0]\n",
        "print(even_numbers)  # [2, 4, 6]"
      ],
      "metadata": {
        "colab": {
          "base_uri": "https://localhost:8080/"
        },
        "id": "cfWIMj7Y1B5G",
        "outputId": "9a01ed9a-9205-42cd-abce-2620e87f632d"
      },
      "execution_count": 14,
      "outputs": [
        {
          "output_type": "stream",
          "name": "stdout",
          "text": [
            "[2, 4, 6]\n"
          ]
        }
      ]
    },
    {
      "cell_type": "markdown",
      "source": [
        "## 🔹 Why Do We Use List Comprehensions?\n",
        "\n",
        "### 1️⃣ Concise and Readable Code\n",
        "- Allows creating new lists in a **single line**.\n",
        "- Eliminates the need for multi-line `for` loops with `append()`.\n",
        "\n",
        "```python\n",
        "# Traditional\n",
        "squares = []\n",
        "for n in range(5):\n",
        "    squares.append(n**2)\n",
        "\n",
        "# List comprehension\n",
        "squares = [n**2 for n in range(5)]\n",
        "\n",
        "2️⃣ Combines Transformation and Filtering\n",
        "Transform items and filter them in the same expression.\n",
        "\n",
        "python\n",
        "Copy\n",
        "Edit\n",
        "even_squares = [n**2 for n in range(10) if n % 2 == 0]\n",
        "print(even_squares)  # [0, 4, 16, 36, 64]"
      ],
      "metadata": {
        "id": "5d7FxSbX1MVJ"
      }
    },
    {
      "cell_type": "markdown",
      "source": [
        "# ⚠️ Python Exception Handling\n",
        "\n",
        "## 📌 What is Exception Handling?\n",
        "- Exceptions are **errors** that occur during program execution.\n",
        "- Exception handling allows your program to **continue running** instead of crashing.\n",
        "- In Python, exceptions are handled using `try`, `except`, `else`, and `finally`.\n",
        "\n",
        "---\n",
        "\n",
        "## **Syntax**\n",
        "```python\n",
        "try:\n",
        "    # Code that may raise an exception\n",
        "except ExceptionType:\n",
        "    # Code to handle the exception\n",
        "else:\n",
        "    # Code to run if no exception occurs (optional)\n",
        "finally:\n",
        "    # Code that runs no matter what (optional)\n"
      ],
      "metadata": {
        "id": "bDnvVsVkfNd8"
      }
    },
    {
      "cell_type": "code",
      "source": [
        "try:\n",
        "    num = int(input(\"Enter a number: \"))\n",
        "    print(\"You entered:\", num)\n",
        "except ValueError:\n",
        "    print(\"❌ That is not a valid number!\")\n"
      ],
      "metadata": {
        "colab": {
          "base_uri": "https://localhost:8080/"
        },
        "id": "hm_9cVXaejtj",
        "outputId": "d72bab2e-0940-4f08-c76c-458d99b12968"
      },
      "execution_count": 52,
      "outputs": [
        {
          "output_type": "stream",
          "name": "stdout",
          "text": [
            "Enter a number: a\n",
            "❌ That is not a valid number!\n"
          ]
        }
      ]
    },
    {
      "cell_type": "code",
      "source": [
        "try:\n",
        "    x = int(input(\"Enter numerator: \"))\n",
        "    y = int(input(\"Enter denominator: \"))\n",
        "    result = x / y\n",
        "    print(\"Result:\", result)\n",
        "except ValueError:\n",
        "    print(\"❌ Invalid number entered!\")\n",
        "except ZeroDivisionError:\n",
        "    print(\"❌ Cannot divide by zero!\")\n"
      ],
      "metadata": {
        "colab": {
          "base_uri": "https://localhost:8080/"
        },
        "id": "aplJiG08fRbw",
        "outputId": "18d26d2b-8574-401c-c370-e64185c3485b"
      },
      "execution_count": 53,
      "outputs": [
        {
          "output_type": "stream",
          "name": "stdout",
          "text": [
            "Enter numerator: 2\n",
            "Enter denominator: 0\n",
            "❌ Cannot divide by zero!\n"
          ]
        }
      ]
    },
    {
      "cell_type": "code",
      "source": [
        "try:\n",
        "    num = int(input(\"Enter a positive number: \"))\n",
        "except ValueError:\n",
        "    print(\"❌ Invalid number!\")\n",
        "else:\n",
        "    print(\"✅ You entered:\", num)\n"
      ],
      "metadata": {
        "colab": {
          "base_uri": "https://localhost:8080/"
        },
        "id": "UG78sW6QfWJN",
        "outputId": "bc5f808d-df4f-4237-f4e9-51e99b0c6f77"
      },
      "execution_count": 54,
      "outputs": [
        {
          "output_type": "stream",
          "name": "stdout",
          "text": [
            "Enter a positive number: 2\n",
            "✅ You entered: 2\n"
          ]
        }
      ]
    },
    {
      "cell_type": "code",
      "source": [
        "try:\n",
        "    f = open(\"test.txt\", \"w\")\n",
        "    f.write(\"Hello\")\n",
        "except Exception as e:\n",
        "    print(\"Error:\", e)\n",
        "finally:\n",
        "    f.close()\n",
        "    print(\"📂 File closed.\")\n"
      ],
      "metadata": {
        "id": "eO4-Uy_7fbgu",
        "outputId": "6abd6258-5061-4648-ebe0-78d394b069f5",
        "colab": {
          "base_uri": "https://localhost:8080/"
        }
      },
      "execution_count": 55,
      "outputs": [
        {
          "output_type": "stream",
          "name": "stdout",
          "text": [
            "📂 File closed.\n"
          ]
        }
      ]
    },
    {
      "cell_type": "markdown",
      "source": [
        "## 🔹 Why Do We Use Exception Handling in Python?\n",
        "\n",
        "### 1️⃣ Prevent Program Crashes\n",
        "- Without exception handling, an error stops the entire program.\n",
        "- Using `try...except` allows the program to **continue running** even if an error occurs.\n",
        "\n",
        "```python\n",
        "try:\n",
        "    num = int(input(\"Enter a number: \"))\n",
        "    print(10 / num)\n",
        "except ZeroDivisionError:\n",
        "    print(\"❌ You cannot divide by zero.\")\n",
        "\n",
        "2️⃣ Provide User-Friendly Error Messages\n",
        "Replace technical error messages with clear, helpful feedback.\n",
        "\n",
        "try:\n",
        "    file = open(\"data.txt\")\n",
        "except FileNotFoundError:\n",
        "    print(\"⚠ File not found. Please check the file name.\")\n",
        "\n",
        "3️⃣ Handle Specific Error Types\n",
        "Catch different exceptions and handle them differently.\n",
        "\n",
        "try:\n",
        "    num = int(\"abc\")\n",
        "except ValueError:\n",
        "    print(\"Invalid number format.\")\n",
        "\n",
        "4️⃣ Ensure Cleanup Actions\n",
        "The finally block runs whether an error occurs or not — useful for closing files, releasing resources, or cleaning temporary data.\n",
        "\n",
        "try:\n",
        "    file = open(\"data.txt\")\n",
        "    # Do something with the file\n",
        "finally:\n",
        "    file.close()\n"
      ],
      "metadata": {
        "id": "4x5MWasL1d7v"
      }
    },
    {
      "cell_type": "code",
      "source": [],
      "metadata": {
        "id": "F-0-_JVi1wtj"
      },
      "execution_count": null,
      "outputs": []
    },
    {
      "cell_type": "code",
      "metadata": {
        "colab": {
          "base_uri": "https://localhost:8080/"
        },
        "id": "01bd6f75",
        "outputId": "a3575574-5a49-46c5-a3ce-4a806820c376"
      },
      "source": [
        "# Create an empty list\n",
        "my_list = []\n",
        "\n",
        "# You can verify it is empty\n",
        "print(my_list)\n",
        "\n",
        "# You can also verify its type\n",
        "print(type(my_list))"
      ],
      "execution_count": 56,
      "outputs": [
        {
          "output_type": "stream",
          "name": "stdout",
          "text": [
            "[]\n",
            "<class 'list'>\n"
          ]
        }
      ]
    }
  ]
}